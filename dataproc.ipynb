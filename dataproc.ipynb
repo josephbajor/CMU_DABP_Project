{
 "cells": [
  {
   "cell_type": "code",
   "execution_count": 1,
   "metadata": {},
   "outputs": [],
   "source": [
    "import numpy as np\n",
    "import pandas as pd\n",
    "import dask.dataframe as dd\n",
    "import sys\n",
    "import os\n",
    "import math\n",
    "from data import load_NEMSIS_dask, load_NEMSIS_pandas, chain_join"
   ]
  },
  {
   "cell_type": "code",
   "execution_count": 2,
   "metadata": {},
   "outputs": [],
   "source": [
    "# data_dir: os.PathLike = \"/Volumes/Extreme Pro/datasets/NEMSIS/ASCII/\"\n",
    "# data_dir: os.PathLike = \"/media/jbajor/Extreme Pro/datasets/NEMSIS/ASCII/\"\n",
    "data_dir: os.PathLike = \"/home/jbajor/Dev/datasets/NEMSIS/ASCII/\"\n",
    "\n",
    "\n",
    "nemsis_subset = {\n",
    "    \"ComputedElements\":[\n",
    "        'PcrKey',\n",
    "        'NasemsoRegion',\n",
    "        'Urbanicity',\n",
    "        'ageinyear',\n",
    "        'EMSDispatchCenterTimeSec',\n",
    "        'EMSChuteTimeMin',\n",
    "        'EMSSceneResponseTimeMin',\n",
    "        'EMSSceneTimeMin',\n",
    "        'EMSSceneToPatientTimeMin'\n",
    "    ],\n",
    "    \"FACTPCRADDITIONALRESPONSEMODE\":None,\n",
    "    \"FACTPCRADDITIONALSYMPTOM\":None,\n",
    "    \"FACTPCRADDITIONALTRANSPORTMODE\":None,\n",
    "    \"FACTPCRARRESTCPRPROVIDED\":None,\n",
    "    \"FACTPCRARRESTRESUSCITATION\":None,\n",
    "    \"FACTPCRARRESTRHYTHMDESTINATION\":None,\n",
    "    \"FACTPCRARRESTROSC\":None,\n",
    "    \"FACTPCRARRESTWITNESS\":None,\n",
    "    \"FACTPCRBARRIERTOCARE\":None,\n",
    "    \"FACTPCRMEDICATION\":None,\n",
    "    \"FACTPCRPRIMARYIMPRESSION\":None,\n",
    "    \"FACTPCRPROCEDURE\":None,\n",
    "    \"FACTPCRPROTOCOL\":None,\n",
    "    \"FACTPCRSECONDARYIMPRESSION\":None,\n",
    "    \"FACTPCRTRAUMACRITERIA\":None,\n",
    "    \"FACTPCRWORKRELATEDEXPOSURE\":None,\n",
    "    # \"PCRMEDCOMPGROUP\":None, # bad key\n",
    "    # \"PCRPROCCOMPGROUP\":None, # bad key\n",
    "    # \"PCRVITALECGGROUP\":None, # bad key\n",
    "    \"Pub_PCRevents\":[\n",
    "        'PcrKey',\n",
    "        'eArrest_01',\n",
    "        'eArrest_02',\n",
    "        'eArrest_05',\n",
    "        'eArrest_07',\n",
    "        'eArrest_11',\n",
    "        'eArrest_14',\n",
    "        'eArrest_16',\n",
    "        'eArrest_18',\n",
    "        'eDisposition_23',\n",
    "        'ePayment_01',\n",
    "        'eResponse_07',\n",
    "        'eResponse_15',\n",
    "        'eSituation_01',\n",
    "        'eSituation_07',\n",
    "        'eSituation_08',\n",
    "        'eTimes_01',\n",
    "        'eTimes_03',\n",
    "        'eTimes_05',\n",
    "        'eTimes_06',\n",
    "        'eTimes_07',\n",
    "        'eTimes_09',\n",
    "        'eTimes_11',\n",
    "        'eTimes_12',\n",
    "        'eTimes_13'\n",
    "    ],\n",
    "}\n"
   ]
  },
  {
   "cell_type": "code",
   "execution_count": 6,
   "metadata": {},
   "outputs": [
    {
     "name": "stderr",
     "output_type": "stream",
     "text": [
      "/home/jbajor/miniconda3/envs/dabp/lib/python3.11/site-packages/debugpy/_vendored/pydevd/_pydev_bundle/_pydev_imports_tipper.py:205: FutureWarning: pandas.Float64Index is deprecated and will be removed from pandas in a future version. Use pandas.Index with the appropriate dtype instead.\n",
      "  obj = getattr(obj_to_complete, d)\n",
      "/home/jbajor/miniconda3/envs/dabp/lib/python3.11/site-packages/debugpy/_vendored/pydevd/_pydev_bundle/_pydev_imports_tipper.py:205: FutureWarning: pandas.Int64Index is deprecated and will be removed from pandas in a future version. Use pandas.Index with the appropriate dtype instead.\n",
      "  obj = getattr(obj_to_complete, d)\n",
      "/home/jbajor/miniconda3/envs/dabp/lib/python3.11/site-packages/debugpy/_vendored/pydevd/_pydev_bundle/_pydev_imports_tipper.py:205: FutureWarning: pandas.UInt64Index is deprecated and will be removed from pandas in a future version. Use pandas.Index with the appropriate dtype instead.\n",
      "  obj = getattr(obj_to_complete, d)\n",
      "/home/jbajor/miniconda3/envs/dabp/lib/python3.11/site-packages/pandas/core/missing.py:95: FutureWarning: elementwise comparison failed; returning scalar instead, but in the future will perform elementwise comparison\n",
      "  new_mask = arr == x\n"
     ]
    },
    {
     "ename": "AttributeError",
     "evalue": "'bool' object has no attribute 'to_numpy'",
     "output_type": "error",
     "traceback": [
      "\u001b[0;31m---------------------------------------------------------------------------\u001b[0m",
      "\u001b[0;31mAttributeError\u001b[0m                            Traceback (most recent call last)",
      "Cell \u001b[0;32mIn [6], line 1\u001b[0m\n\u001b[0;32m----> 1\u001b[0m dataframes \u001b[39m=\u001b[39m load_NEMSIS_pandas(data_dir\u001b[39m=\u001b[39;49mdata_dir, load_targets\u001b[39m=\u001b[39;49mnemsis_subset, nrows\u001b[39m=\u001b[39;49m\u001b[39m50000\u001b[39;49m)\n",
      "File \u001b[0;32m~/Dev/CMU/CMU_DABP_Project/data.py:39\u001b[0m, in \u001b[0;36mload_NEMSIS_pandas\u001b[0;34m(data_dir, load_targets, nrows)\u001b[0m\n\u001b[1;32m     36\u001b[0m     \u001b[39mif\u001b[39;00m load_targets[f] \u001b[39mis\u001b[39;00m \u001b[39mnot\u001b[39;00m \u001b[39mNone\u001b[39;00m:\n\u001b[1;32m     37\u001b[0m         data \u001b[39m=\u001b[39m data[load_targets[f]]\n\u001b[0;32m---> 39\u001b[0m     data \u001b[39m=\u001b[39m data\u001b[39m.\u001b[39;49mreplace(to_replace\u001b[39m=\u001b[39;49m\u001b[39m'\u001b[39;49m\u001b[39m.\u001b[39;49m\u001b[39m'\u001b[39;49m, value\u001b[39m=\u001b[39;49mpd\u001b[39m.\u001b[39;49mNA)\n\u001b[1;32m     41\u001b[0m     data_dict[f] \u001b[39m=\u001b[39m data\n\u001b[1;32m     43\u001b[0m \u001b[39mreturn\u001b[39;00m data_dict\n",
      "File \u001b[0;32m~/miniconda3/envs/dabp/lib/python3.11/site-packages/pandas/util/_decorators.py:331\u001b[0m, in \u001b[0;36mdeprecate_nonkeyword_arguments.<locals>.decorate.<locals>.wrapper\u001b[0;34m(*args, **kwargs)\u001b[0m\n\u001b[1;32m    325\u001b[0m \u001b[39mif\u001b[39;00m \u001b[39mlen\u001b[39m(args) \u001b[39m>\u001b[39m num_allow_args:\n\u001b[1;32m    326\u001b[0m     warnings\u001b[39m.\u001b[39mwarn(\n\u001b[1;32m    327\u001b[0m         msg\u001b[39m.\u001b[39mformat(arguments\u001b[39m=\u001b[39m_format_argument_list(allow_args)),\n\u001b[1;32m    328\u001b[0m         \u001b[39mFutureWarning\u001b[39;00m,\n\u001b[1;32m    329\u001b[0m         stacklevel\u001b[39m=\u001b[39mfind_stack_level(),\n\u001b[1;32m    330\u001b[0m     )\n\u001b[0;32m--> 331\u001b[0m \u001b[39mreturn\u001b[39;00m func(\u001b[39m*\u001b[39;49margs, \u001b[39m*\u001b[39;49m\u001b[39m*\u001b[39;49mkwargs)\n",
      "File \u001b[0;32m~/miniconda3/envs/dabp/lib/python3.11/site-packages/pandas/core/frame.py:5725\u001b[0m, in \u001b[0;36mDataFrame.replace\u001b[0;34m(self, to_replace, value, inplace, limit, regex, method)\u001b[0m\n\u001b[1;32m   5712\u001b[0m \u001b[39m@deprecate_nonkeyword_arguments\u001b[39m(\n\u001b[1;32m   5713\u001b[0m     version\u001b[39m=\u001b[39m\u001b[39mNone\u001b[39;00m, allowed_args\u001b[39m=\u001b[39m[\u001b[39m\"\u001b[39m\u001b[39mself\u001b[39m\u001b[39m\"\u001b[39m, \u001b[39m\"\u001b[39m\u001b[39mto_replace\u001b[39m\u001b[39m\"\u001b[39m, \u001b[39m\"\u001b[39m\u001b[39mvalue\u001b[39m\u001b[39m\"\u001b[39m]\n\u001b[1;32m   5714\u001b[0m )\n\u001b[0;32m   (...)\u001b[0m\n\u001b[1;32m   5723\u001b[0m     method: Literal[\u001b[39m\"\u001b[39m\u001b[39mpad\u001b[39m\u001b[39m\"\u001b[39m, \u001b[39m\"\u001b[39m\u001b[39mffill\u001b[39m\u001b[39m\"\u001b[39m, \u001b[39m\"\u001b[39m\u001b[39mbfill\u001b[39m\u001b[39m\"\u001b[39m] \u001b[39m|\u001b[39m lib\u001b[39m.\u001b[39mNoDefault \u001b[39m=\u001b[39m lib\u001b[39m.\u001b[39mno_default,\n\u001b[1;32m   5724\u001b[0m ) \u001b[39m-\u001b[39m\u001b[39m>\u001b[39m DataFrame \u001b[39m|\u001b[39m \u001b[39mNone\u001b[39;00m:\n\u001b[0;32m-> 5725\u001b[0m     \u001b[39mreturn\u001b[39;00m \u001b[39msuper\u001b[39;49m()\u001b[39m.\u001b[39;49mreplace(\n\u001b[1;32m   5726\u001b[0m         to_replace\u001b[39m=\u001b[39;49mto_replace,\n\u001b[1;32m   5727\u001b[0m         value\u001b[39m=\u001b[39;49mvalue,\n\u001b[1;32m   5728\u001b[0m         inplace\u001b[39m=\u001b[39;49minplace,\n\u001b[1;32m   5729\u001b[0m         limit\u001b[39m=\u001b[39;49mlimit,\n\u001b[1;32m   5730\u001b[0m         regex\u001b[39m=\u001b[39;49mregex,\n\u001b[1;32m   5731\u001b[0m         method\u001b[39m=\u001b[39;49mmethod,\n\u001b[1;32m   5732\u001b[0m     )\n",
      "File \u001b[0;32m~/miniconda3/envs/dabp/lib/python3.11/site-packages/pandas/util/_decorators.py:331\u001b[0m, in \u001b[0;36mdeprecate_nonkeyword_arguments.<locals>.decorate.<locals>.wrapper\u001b[0;34m(*args, **kwargs)\u001b[0m\n\u001b[1;32m    325\u001b[0m \u001b[39mif\u001b[39;00m \u001b[39mlen\u001b[39m(args) \u001b[39m>\u001b[39m num_allow_args:\n\u001b[1;32m    326\u001b[0m     warnings\u001b[39m.\u001b[39mwarn(\n\u001b[1;32m    327\u001b[0m         msg\u001b[39m.\u001b[39mformat(arguments\u001b[39m=\u001b[39m_format_argument_list(allow_args)),\n\u001b[1;32m    328\u001b[0m         \u001b[39mFutureWarning\u001b[39;00m,\n\u001b[1;32m    329\u001b[0m         stacklevel\u001b[39m=\u001b[39mfind_stack_level(),\n\u001b[1;32m    330\u001b[0m     )\n\u001b[0;32m--> 331\u001b[0m \u001b[39mreturn\u001b[39;00m func(\u001b[39m*\u001b[39;49margs, \u001b[39m*\u001b[39;49m\u001b[39m*\u001b[39;49mkwargs)\n",
      "File \u001b[0;32m~/miniconda3/envs/dabp/lib/python3.11/site-packages/pandas/core/generic.py:7280\u001b[0m, in \u001b[0;36mNDFrame.replace\u001b[0;34m(self, to_replace, value, inplace, limit, regex, method)\u001b[0m\n\u001b[1;32m   7274\u001b[0m         new_data \u001b[39m=\u001b[39m \u001b[39mself\u001b[39m\u001b[39m.\u001b[39m_mgr\u001b[39m.\u001b[39mreplace_regex(\n\u001b[1;32m   7275\u001b[0m             to_replace\u001b[39m=\u001b[39mto_replace,\n\u001b[1;32m   7276\u001b[0m             value\u001b[39m=\u001b[39mvalue,\n\u001b[1;32m   7277\u001b[0m             inplace\u001b[39m=\u001b[39minplace,\n\u001b[1;32m   7278\u001b[0m         )\n\u001b[1;32m   7279\u001b[0m     \u001b[39melse\u001b[39;00m:\n\u001b[0;32m-> 7280\u001b[0m         new_data \u001b[39m=\u001b[39m \u001b[39mself\u001b[39;49m\u001b[39m.\u001b[39;49m_mgr\u001b[39m.\u001b[39;49mreplace(\n\u001b[1;32m   7281\u001b[0m             to_replace\u001b[39m=\u001b[39;49mto_replace, value\u001b[39m=\u001b[39;49mvalue, inplace\u001b[39m=\u001b[39;49minplace\n\u001b[1;32m   7282\u001b[0m         )\n\u001b[1;32m   7283\u001b[0m \u001b[39melse\u001b[39;00m:\n\u001b[1;32m   7284\u001b[0m     \u001b[39mraise\u001b[39;00m \u001b[39mTypeError\u001b[39;00m(\n\u001b[1;32m   7285\u001b[0m         \u001b[39mf\u001b[39m\u001b[39m'\u001b[39m\u001b[39mInvalid \u001b[39m\u001b[39m\"\u001b[39m\u001b[39mto_replace\u001b[39m\u001b[39m\"\u001b[39m\u001b[39m type: \u001b[39m\u001b[39m{\u001b[39;00m\u001b[39mrepr\u001b[39m(\u001b[39mtype\u001b[39m(to_replace)\u001b[39m.\u001b[39m\u001b[39m__name__\u001b[39m)\u001b[39m}\u001b[39;00m\u001b[39m'\u001b[39m\n\u001b[1;32m   7286\u001b[0m     )\n",
      "File \u001b[0;32m~/miniconda3/envs/dabp/lib/python3.11/site-packages/pandas/core/internals/managers.py:472\u001b[0m, in \u001b[0;36mBaseBlockManager.replace\u001b[0;34m(self, to_replace, value, inplace)\u001b[0m\n\u001b[1;32m    470\u001b[0m \u001b[39massert\u001b[39;00m \u001b[39mnot\u001b[39;00m is_list_like(to_replace)\n\u001b[1;32m    471\u001b[0m \u001b[39massert\u001b[39;00m \u001b[39mnot\u001b[39;00m is_list_like(value)\n\u001b[0;32m--> 472\u001b[0m \u001b[39mreturn\u001b[39;00m \u001b[39mself\u001b[39;49m\u001b[39m.\u001b[39;49mapply(\n\u001b[1;32m    473\u001b[0m     \u001b[39m\"\u001b[39;49m\u001b[39mreplace\u001b[39;49m\u001b[39m\"\u001b[39;49m, to_replace\u001b[39m=\u001b[39;49mto_replace, value\u001b[39m=\u001b[39;49mvalue, inplace\u001b[39m=\u001b[39;49minplace\n\u001b[1;32m    474\u001b[0m )\n",
      "File \u001b[0;32m~/miniconda3/envs/dabp/lib/python3.11/site-packages/pandas/core/internals/managers.py:352\u001b[0m, in \u001b[0;36mBaseBlockManager.apply\u001b[0;34m(self, f, align_keys, ignore_failures, **kwargs)\u001b[0m\n\u001b[1;32m    350\u001b[0m         applied \u001b[39m=\u001b[39m b\u001b[39m.\u001b[39mapply(f, \u001b[39m*\u001b[39m\u001b[39m*\u001b[39mkwargs)\n\u001b[1;32m    351\u001b[0m     \u001b[39melse\u001b[39;00m:\n\u001b[0;32m--> 352\u001b[0m         applied \u001b[39m=\u001b[39m \u001b[39mgetattr\u001b[39;49m(b, f)(\u001b[39m*\u001b[39;49m\u001b[39m*\u001b[39;49mkwargs)\n\u001b[1;32m    353\u001b[0m \u001b[39mexcept\u001b[39;00m (\u001b[39mTypeError\u001b[39;00m, \u001b[39mNotImplementedError\u001b[39;00m):\n\u001b[1;32m    354\u001b[0m     \u001b[39mif\u001b[39;00m \u001b[39mnot\u001b[39;00m ignore_failures:\n",
      "File \u001b[0;32m~/miniconda3/envs/dabp/lib/python3.11/site-packages/pandas/core/internals/blocks.py:592\u001b[0m, in \u001b[0;36mBlock.replace\u001b[0;34m(self, to_replace, value, inplace, mask)\u001b[0m\n\u001b[1;32m    589\u001b[0m     \u001b[39mreturn\u001b[39;00m [\u001b[39mself\u001b[39m] \u001b[39mif\u001b[39;00m inplace \u001b[39melse\u001b[39;00m [\u001b[39mself\u001b[39m\u001b[39m.\u001b[39mcopy()]\n\u001b[1;32m    591\u001b[0m \u001b[39mif\u001b[39;00m mask \u001b[39mis\u001b[39;00m \u001b[39mNone\u001b[39;00m:\n\u001b[0;32m--> 592\u001b[0m     mask \u001b[39m=\u001b[39m missing\u001b[39m.\u001b[39;49mmask_missing(values, to_replace)\n\u001b[1;32m    593\u001b[0m \u001b[39mif\u001b[39;00m \u001b[39mnot\u001b[39;00m mask\u001b[39m.\u001b[39many():\n\u001b[1;32m    594\u001b[0m     \u001b[39m# Note: we get here with test_replace_extension_other incorrectly\u001b[39;00m\n\u001b[1;32m    595\u001b[0m     \u001b[39m#  bc _can_hold_element is incorrect.\u001b[39;00m\n\u001b[1;32m    596\u001b[0m     \u001b[39mreturn\u001b[39;00m [\u001b[39mself\u001b[39m] \u001b[39mif\u001b[39;00m inplace \u001b[39melse\u001b[39;00m [\u001b[39mself\u001b[39m\u001b[39m.\u001b[39mcopy()]\n",
      "File \u001b[0;32m~/miniconda3/envs/dabp/lib/python3.11/site-packages/pandas/core/missing.py:98\u001b[0m, in \u001b[0;36mmask_missing\u001b[0;34m(arr, values_to_mask)\u001b[0m\n\u001b[1;32m     95\u001b[0m         new_mask \u001b[39m=\u001b[39m arr \u001b[39m==\u001b[39m x\n\u001b[1;32m     96\u001b[0m         \u001b[39mif\u001b[39;00m \u001b[39mnot\u001b[39;00m \u001b[39misinstance\u001b[39m(new_mask, np\u001b[39m.\u001b[39mndarray):\n\u001b[1;32m     97\u001b[0m             \u001b[39m# usually BooleanArray\u001b[39;00m\n\u001b[0;32m---> 98\u001b[0m             new_mask \u001b[39m=\u001b[39m new_mask\u001b[39m.\u001b[39;49mto_numpy(dtype\u001b[39m=\u001b[39m\u001b[39mbool\u001b[39m, na_value\u001b[39m=\u001b[39m\u001b[39mFalse\u001b[39;00m)\n\u001b[1;32m     99\u001b[0m         mask \u001b[39m|\u001b[39m\u001b[39m=\u001b[39m new_mask\n\u001b[1;32m    101\u001b[0m \u001b[39mif\u001b[39;00m na_mask\u001b[39m.\u001b[39many():\n",
      "\u001b[0;31mAttributeError\u001b[0m: 'bool' object has no attribute 'to_numpy'"
     ]
    }
   ],
   "source": [
    "dataframes = load_NEMSIS_pandas(data_dir=data_dir, load_targets=nemsis_subset, nrows=50000)"
   ]
  },
  {
   "cell_type": "code",
   "execution_count": null,
   "metadata": {},
   "outputs": [],
   "source": []
  },
  {
   "cell_type": "code",
   "execution_count": 5,
   "metadata": {},
   "outputs": [
    {
     "data": {
      "text/plain": [
       "PcrKey                       int64\n",
       "NasemsoRegion               object\n",
       "Urbanicity                  object\n",
       "ageinyear                   object\n",
       "EMSDispatchCenterTimeSec    object\n",
       "EMSChuteTimeMin             object\n",
       "EMSSceneResponseTimeMin     object\n",
       "EMSSceneTimeMin             object\n",
       "EMSSceneToPatientTimeMin    object\n",
       "dtype: object"
      ]
     },
     "execution_count": 5,
     "metadata": {},
     "output_type": "execute_result"
    }
   ],
   "source": [
    "dataframes['ComputedElements'].dtypes"
   ]
  }
 ],
 "metadata": {
  "kernelspec": {
   "display_name": "Python 3.11.0 ('dabp')",
   "language": "python",
   "name": "python3"
  },
  "language_info": {
   "codemirror_mode": {
    "name": "ipython",
    "version": 3
   },
   "file_extension": ".py",
   "mimetype": "text/x-python",
   "name": "python",
   "nbconvert_exporter": "python",
   "pygments_lexer": "ipython3",
   "version": "3.11.0"
  },
  "orig_nbformat": 4,
  "vscode": {
   "interpreter": {
    "hash": "1848222e23d7eaddda6bfa0b16887ba45e0f7b875c11d69b438f73c0d317526a"
   }
  }
 },
 "nbformat": 4,
 "nbformat_minor": 2
}
