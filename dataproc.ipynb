{
 "cells": [
  {
   "cell_type": "code",
   "execution_count": 1,
   "metadata": {},
   "outputs": [],
   "source": [
    "import numpy as np\n",
    "import pandas as pd\n",
    "import dask.dataframe as dd\n",
    "import sys\n",
    "import os\n",
    "import math"
   ]
  },
  {
   "cell_type": "code",
   "execution_count": 2,
   "metadata": {},
   "outputs": [],
   "source": [
    "# data_dir: os.PathLike = \"/Volumes/Extreme Pro/datasets/NEMSIS/ASCII/\"\n",
    "# data_dir: os.PathLike = \"/media/jbajor/Extreme Pro/datasets/NEMSIS/ASCII/\"\n",
    "data_dir: os.PathLike = \"/home/jbajor/Dev/datasets/NEMSIS/ASCII/\"\n",
    "\n",
    "\n",
    "nemsis_subset = {\n",
    "    \"ComputedElements\":[\n",
    "        'PcrKey',\n",
    "        'NasemsoRegion',\n",
    "        'Urbanicity',\n",
    "        'ageinyear',\n",
    "        'EMSDispatchCenterTimeSec',\n",
    "        'EMSChuteTimeMin',\n",
    "        'EMSSceneResponseTimeMin',\n",
    "        'EMSSceneTimeMin',\n",
    "        'EMSSceneToPatientTimeMin'\n",
    "    ],\n",
    "    \"FACTPCRADDITIONALRESPONSEMODE\":None,\n",
    "    \"FACTPCRADDITIONALSYMPTOM\":None,\n",
    "    \"FACTPCRADDITIONALTRANSPORTMODE\":None,\n",
    "    \"FACTPCRARRESTCPRPROVIDED\":None,\n",
    "    \"FACTPCRARRESTRESUSCITATION\":None,\n",
    "    \"FACTPCRARRESTRHYTHMDESTINATION\":None,\n",
    "    \"FACTPCRARRESTROSC\":None,\n",
    "    \"FACTPCRARRESTWITNESS\":None,\n",
    "    \"FACTPCRBARRIERTOCARE\":None,\n",
    "    \"FACTPCRMEDICATION\":None,\n",
    "    \"FACTPCRPRIMARYIMPRESSION\":None,\n",
    "    \"FACTPCRPROCEDURE\":None,\n",
    "    \"FACTPCRPROTOCOL\":None,\n",
    "    \"FACTPCRSECONDARYIMPRESSION\":None,\n",
    "    \"FACTPCRTRAUMACRITERIA\":None,\n",
    "    \"FACTPCRWORKRELATEDEXPOSURE\":None,\n",
    "    # \"PCRMEDCOMPGROUP\":None, # bad key\n",
    "    # \"PCRPROCCOMPGROUP\":None, # bad key\n",
    "    # \"PCRVITALECGGROUP\":None, # bad key\n",
    "    \"Pub_PCRevents\":[\n",
    "        'PcrKey',\n",
    "        'eArrest_01',\n",
    "        'eArrest_02',\n",
    "        'eArrest_05',\n",
    "        'eArrest_07',\n",
    "        'eArrest_11',\n",
    "        'eArrest_14',\n",
    "        'eArrest_16',\n",
    "        'eArrest_18',\n",
    "        'eDisposition_23',\n",
    "        'ePayment_01',\n",
    "        'eResponse_07',\n",
    "        'eResponse_15',\n",
    "        'eSituation_01',\n",
    "        'eSituation_07',\n",
    "        'eSituation_08',\n",
    "        'eTimes_01',\n",
    "        'eTimes_03',\n",
    "        'eTimes_05',\n",
    "        'eTimes_06',\n",
    "        'eTimes_07',\n",
    "        'eTimes_09',\n",
    "        'eTimes_11',\n",
    "        'eTimes_12',\n",
    "        'eTimes_13'\n",
    "    ],\n",
    "}\n"
   ]
  },
  {
   "cell_type": "code",
   "execution_count": 8,
   "metadata": {},
   "outputs": [],
   "source": [
    "from data import load_NEMSIS\n",
    "\n",
    "key='PcrKey'\n",
    "data_dir=data_dir\n",
    "load_targets=nemsis_subset\n",
    "\n",
    "data_dict = {}\n",
    "l_iter = iter(load_targets.keys())"
   ]
  },
  {
   "cell_type": "code",
   "execution_count": 60,
   "metadata": {},
   "outputs": [
    {
     "name": "stdout",
     "output_type": "stream",
     "text": [
      "Pub_PCRevents\n"
     ]
    }
   ],
   "source": [
    "f = next(l_iter)\n",
    "print(f)"
   ]
  },
  {
   "cell_type": "code",
   "execution_count": 64,
   "metadata": {},
   "outputs": [],
   "source": [
    "# f = \"FACTPCRPROTOCOL\"\n",
    "\n",
    "if f == \"FACTPCRMEDICATION\":\n",
    "    data = dd.read_csv(os.path.join(data_dir, f + \".txt\"), delimiter=\"~\\|~\", engine=\"python\", blocksize=85e6, sample=25000000, dtype={\"'eMedications_10'\": 'object', \"'eMedications_03'\": 'object'})\n",
    "\n",
    "if f == \"FACTPCRPROCEDURE\":\n",
    "    data = dd.read_csv(os.path.join(data_dir, f + \".txt\"), delimiter=\"~\\|~\", engine=\"python\", blocksize=85e6, sample=25000000, dtype={\"'eProcedures_10'\": 'object', \"'eProcedures_03'\": 'object'})\n",
    "\n",
    "if f == \"FACTPCRPROTOCOL\":\n",
    "    data = dd.read_csv(os.path.join(data_dir, f + \".txt\"), delimiter=\"~\\|~\", engine=\"python\", blocksize=85e6, sample=25000000, dtype={\"'eProtocol_01'\": 'object'})\n",
    "\n",
    "if f == \"Pub_PCRevents\":\n",
    "    data = dd.read_csv(os.path.join(data_dir, f + \".txt\"), delimiter=\"~\\|~\", engine=\"python\", blocksize=85e6, sample=25000000, dtype={\"'eDisposition_23'\": 'object', \"'eResponse_07'\":'object', \"'eArrest_11'\":'object'})\n",
    "\n",
    "else:\n",
    "    data = dd.read_csv(os.path.join(data_dir, f + \".txt\"), delimiter=\"~\\|~\", engine=\"python\", blocksize=85e6, sample=25000000)\n",
    "\n",
    "# Remove quotes from headers\n",
    "data.columns = [col.strip(\"'\") for col in data.columns]\n",
    "\n",
    "if load_targets[f] is not None:\n",
    "    data = data[load_targets[f]]\n",
    "\n",
    "data.set_index(key)\n",
    "\n",
    "data_dict[f] = data"
   ]
  },
  {
   "cell_type": "code",
   "execution_count": 51,
   "metadata": {},
   "outputs": [
    {
     "data": {
      "text/html": [
       "<div>\n",
       "<style scoped>\n",
       "    .dataframe tbody tr th:only-of-type {\n",
       "        vertical-align: middle;\n",
       "    }\n",
       "\n",
       "    .dataframe tbody tr th {\n",
       "        vertical-align: top;\n",
       "    }\n",
       "\n",
       "    .dataframe thead th {\n",
       "        text-align: right;\n",
       "    }\n",
       "</style>\n",
       "<table border=\"1\" class=\"dataframe\">\n",
       "  <thead>\n",
       "    <tr style=\"text-align: right;\">\n",
       "      <th></th>\n",
       "      <th>PcrKey</th>\n",
       "      <th>eSituation_12</th>\n",
       "    </tr>\n",
       "  </thead>\n",
       "  <tbody>\n",
       "    <tr>\n",
       "      <th>0</th>\n",
       "      <td>3442467</td>\n",
       "      <td>NaN</td>\n",
       "    </tr>\n",
       "    <tr>\n",
       "      <th>1</th>\n",
       "      <td>9778729</td>\n",
       "      <td>NaN</td>\n",
       "    </tr>\n",
       "    <tr>\n",
       "      <th>2</th>\n",
       "      <td>9829108</td>\n",
       "      <td>NaN</td>\n",
       "    </tr>\n",
       "    <tr>\n",
       "      <th>3</th>\n",
       "      <td>10094816</td>\n",
       "      <td>NaN</td>\n",
       "    </tr>\n",
       "    <tr>\n",
       "      <th>4</th>\n",
       "      <td>10768573</td>\n",
       "      <td>S89.90XA</td>\n",
       "    </tr>\n",
       "  </tbody>\n",
       "</table>\n",
       "</div>"
      ],
      "text/plain": [
       "     PcrKey eSituation_12\n",
       "0   3442467           NaN\n",
       "1   9778729           NaN\n",
       "2   9829108           NaN\n",
       "3  10094816           NaN\n",
       "4  10768573      S89.90XA"
      ]
     },
     "execution_count": 51,
     "metadata": {},
     "output_type": "execute_result"
    }
   ],
   "source": [
    "data_dict['FACTPCRSECONDARYIMPRESSION'].head()"
   ]
  },
  {
   "cell_type": "code",
   "execution_count": 65,
   "metadata": {},
   "outputs": [
    {
     "data": {
      "text/plain": [
       "dict_keys(['ComputedElements', 'FACTPCRADDITIONALRESPONSEMODE', 'FACTPCRADDITIONALSYMPTOM', 'FACTPCRADDITIONALTRANSPORTMODE', 'FACTPCRARRESTCPRPROVIDED', 'FACTPCRARRESTRESUSCITATION', 'FACTPCRARRESTRHYTHMDESTINATION', 'FACTPCRARRESTROSC', 'FACTPCRARRESTWITNESS', 'FACTPCRBARRIERTOCARE', 'FACTPCRPRIMARYIMPRESSION', 'FACTPCRMEDICATION', 'FACTPCRPROCEDURE', 'FACTPCRPROTOCOL', 'FACTPCRSECONDARYIMPRESSION', 'FACTPCRTRAUMACRITERIA', 'FACTPCRWORKRELATEDEXPOSURE', 'Pub_PCRevents'])"
      ]
     },
     "execution_count": 65,
     "metadata": {},
     "output_type": "execute_result"
    }
   ],
   "source": [
    "data_dict.keys()"
   ]
  },
  {
   "cell_type": "code",
   "execution_count": 77,
   "metadata": {},
   "outputs": [],
   "source": [
    "for i in data_dict.keys():\n",
    "    data_dict[i] = data_dict[i].drop(columns=['PcrKey'])"
   ]
  },
  {
   "cell_type": "code",
   "execution_count": 78,
   "metadata": {},
   "outputs": [],
   "source": [
    "main = data_dict[\"Pub_PCRevents\"]\n",
    "to_join = [data_dict[i] for i in data_dict.keys() if i != \"Pub_PCRevents\"]"
   ]
  },
  {
   "cell_type": "code",
   "execution_count": 79,
   "metadata": {},
   "outputs": [],
   "source": [
    "out = main.join(to_join, how='left')"
   ]
  },
  {
   "cell_type": "code",
   "execution_count": 81,
   "metadata": {},
   "outputs": [],
   "source": [
    "out.to_csv('/home/jbajor/Desktop/dabp_data/data_*.csv', compute=True)"
   ]
  }
 ],
 "metadata": {
  "kernelspec": {
   "display_name": "Python 3.11.0 ('dabp')",
   "language": "python",
   "name": "python3"
  },
  "language_info": {
   "codemirror_mode": {
    "name": "ipython",
    "version": 3
   },
   "file_extension": ".py",
   "mimetype": "text/x-python",
   "name": "python",
   "nbconvert_exporter": "python",
   "pygments_lexer": "ipython3",
   "version": "3.11.0"
  },
  "orig_nbformat": 4,
  "vscode": {
   "interpreter": {
    "hash": "1848222e23d7eaddda6bfa0b16887ba45e0f7b875c11d69b438f73c0d317526a"
   }
  }
 },
 "nbformat": 4,
 "nbformat_minor": 2
}
