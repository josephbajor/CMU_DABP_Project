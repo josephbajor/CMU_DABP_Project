{
 "cells": [
  {
   "cell_type": "code",
   "execution_count": 1,
   "metadata": {},
   "outputs": [],
   "source": [
    "import numpy as np\n",
    "import pandas as pd\n",
    "import dask.dataframe as dd\n",
    "import sys\n",
    "import os\n",
    "import math\n",
    "from data import load_NEMSIS_dask, load_NEMSIS_pandas, chain_join"
   ]
  },
  {
   "cell_type": "code",
   "execution_count": 2,
   "metadata": {},
   "outputs": [],
   "source": [
    "# data_dir: os.PathLike = \"/Volumes/Extreme Pro/datasets/NEMSIS/ASCII/\"\n",
    "# data_dir: os.PathLike = \"/media/jbajor/Extreme Pro/datasets/NEMSIS/ASCII/\"\n",
    "data_dir: os.PathLike = \"/home/jbajor/Dev/datasets/NEMSIS/ASCII/\"\n",
    "\n",
    "\n",
    "nemsis_subset = {\n",
    "    \"ComputedElements\":[\n",
    "        'PcrKey',\n",
    "        'NasemsoRegion',\n",
    "        'Urbanicity',\n",
    "        'ageinyear',\n",
    "        'EMSDispatchCenterTimeSec',\n",
    "        'EMSChuteTimeMin',\n",
    "        'EMSSceneResponseTimeMin',\n",
    "        'EMSSceneTimeMin',\n",
    "        'EMSSceneToPatientTimeMin'\n",
    "    ],\n",
    "    \"FACTPCRADDITIONALRESPONSEMODE\":None,\n",
    "    \"FACTPCRADDITIONALSYMPTOM\":None,\n",
    "    \"FACTPCRADDITIONALTRANSPORTMODE\":None,\n",
    "    \"FACTPCRARRESTCPRPROVIDED\":None,\n",
    "    \"FACTPCRARRESTRESUSCITATION\":None,\n",
    "    \"FACTPCRARRESTRHYTHMDESTINATION\":None,\n",
    "    \"FACTPCRARRESTROSC\":None,\n",
    "    \"FACTPCRARRESTWITNESS\":None,\n",
    "    \"FACTPCRBARRIERTOCARE\":None,\n",
    "    \"FACTPCRMEDICATION\":None,\n",
    "    \"FACTPCRPRIMARYIMPRESSION\":None,\n",
    "    \"FACTPCRPROCEDURE\":None,\n",
    "    \"FACTPCRPROTOCOL\":None,\n",
    "    \"FACTPCRSECONDARYIMPRESSION\":None,\n",
    "    \"FACTPCRTRAUMACRITERIA\":None,\n",
    "    \"FACTPCRWORKRELATEDEXPOSURE\":None,\n",
    "    # \"PCRMEDCOMPGROUP\":None, # bad key\n",
    "    # \"PCRPROCCOMPGROUP\":None, # bad key\n",
    "    # \"PCRVITALECGGROUP\":None, # bad key\n",
    "    \"Pub_PCRevents\":[\n",
    "        'PcrKey',\n",
    "        'eArrest_01',\n",
    "        'eArrest_02',\n",
    "        'eArrest_05',\n",
    "        'eArrest_07',\n",
    "        'eArrest_11',\n",
    "        'eArrest_14',\n",
    "        'eArrest_16',\n",
    "        'eArrest_18',\n",
    "        'eDisposition_23',\n",
    "        'ePayment_01',\n",
    "        'eResponse_07',\n",
    "        'eResponse_15',\n",
    "        'eSituation_01',\n",
    "        'eSituation_07',\n",
    "        'eSituation_08',\n",
    "        'eTimes_01',\n",
    "        'eTimes_03',\n",
    "        'eTimes_05',\n",
    "        'eTimes_06',\n",
    "        'eTimes_07',\n",
    "        'eTimes_09',\n",
    "        'eTimes_11',\n",
    "        'eTimes_12',\n",
    "        'eTimes_13'\n",
    "    ],\n",
    "}\n"
   ]
  },
  {
   "cell_type": "code",
   "execution_count": 3,
   "metadata": {},
   "outputs": [],
   "source": [
    "dataframes = load_NEMSIS_pandas(data_dir=data_dir, load_targets=nemsis_subset, nrows=1000000)"
   ]
  },
  {
   "cell_type": "code",
   "execution_count": 4,
   "metadata": {},
   "outputs": [],
   "source": [
    "joined = chain_join(datadict=dataframes, key='PcrKey', start_table='Pub_PCRevents', type='left')"
   ]
  },
  {
   "cell_type": "code",
   "execution_count": 5,
   "metadata": {},
   "outputs": [],
   "source": [
    "joined.to_pickle('NEMSIS_subset.pkl')"
   ]
  }
 ],
 "metadata": {
  "kernelspec": {
   "display_name": "Python 3.11.0 ('dabp')",
   "language": "python",
   "name": "python3"
  },
  "language_info": {
   "codemirror_mode": {
    "name": "ipython",
    "version": 3
   },
   "file_extension": ".py",
   "mimetype": "text/x-python",
   "name": "python",
   "nbconvert_exporter": "python",
   "pygments_lexer": "ipython3",
   "version": "3.11.0"
  },
  "orig_nbformat": 4,
  "vscode": {
   "interpreter": {
    "hash": "1848222e23d7eaddda6bfa0b16887ba45e0f7b875c11d69b438f73c0d317526a"
   }
  }
 },
 "nbformat": 4,
 "nbformat_minor": 2
}
