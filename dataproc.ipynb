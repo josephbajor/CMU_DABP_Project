{
 "cells": [
  {
   "cell_type": "code",
   "execution_count": 1,
   "metadata": {},
   "outputs": [],
   "source": [
    "import numpy as np\n",
    "import pandas as pd\n",
    "import dask.dataframe as dd\n",
    "import sys\n",
    "import os\n",
    "import math"
   ]
  },
  {
   "cell_type": "code",
   "execution_count": 2,
   "metadata": {},
   "outputs": [],
   "source": [
    "# data_dir: os.PathLike = \"/Volumes/Extreme Pro/datasets/NEMSIS/ASCII/\"\n",
    "data_dir: os.PathLike = \"/media/jbajor/Extreme Pro/datasets/NEMSIS/ASCII/\"\n",
    "\n",
    "nemsis_subset = {\n",
    "    \"ComputedElements\":[\n",
    "        'PcrKey',\n",
    "        'NasemsoRegion',\n",
    "        'Urbanicity',\n",
    "        'ageinyear',\n",
    "        'EMSDispatchCenterTimeSec',\n",
    "        'EMSChuteTimeMin',\n",
    "        'EMSSceneResponseTimeMin',\n",
    "        'EMSSceneTimeMin',\n",
    "        'EMSSceneToPatientTimeMin'\n",
    "    ],\n",
    "    \"FACTPCRADDITIONALRESPONSEMODE\":None,\n",
    "    \"FACTPCRADDITIONALSYMPTOM\":None,\n",
    "    \"FACTPCRADDITIONALTRANSPORTMODE\":None,\n",
    "    \"FACTPCRARRESTCPRPROVIDED\":None,\n",
    "    \"FACTPCRARRESTRESUSCITATION\":None,\n",
    "    \"FACTPCRARRESTRHYTHMDESTINATION\":None,\n",
    "    \"FACTPCRARRESTROSC\":None,\n",
    "    \"FACTPCRARRESTWITNESS\":None,\n",
    "    \"FACTPCRBARRIERTOCARE\":None,\n",
    "    \"FACTPCRMEDICATION\":None,\n",
    "    \"FACTPCRPRIMARYIMPRESSION\":None,\n",
    "    \"FACTPCRPROCEDURE\":None,\n",
    "    \"FACTPCRPROTOCOL\":None,\n",
    "    \"FACTPCRSECONDARYIMPRESSION\":None,\n",
    "    \"FACTPCRTRAUMACRITERIA\":None,\n",
    "    \"FACTPCRWORKRELATEDEXPOSURE\":None,\n",
    "    \"PCRMEDCOMPGROUP\":None,\n",
    "    \"PCRPROCCOMPGROUP\":None,\n",
    "    \"PCRVITALECGGROUP\":None,\n",
    "    \"Pub_PCRevents\":[\n",
    "        'PcrKey',\n",
    "        'eArrest_01',\n",
    "        'eArrest_02',\n",
    "        'eArrest_05',\n",
    "        'eArrest_07',\n",
    "        'eArrest_11',\n",
    "        'eArrest_14',\n",
    "        'eArrest_16',\n",
    "        'eArrest_18',\n",
    "        'eDisposition_23',\n",
    "        'ePayment_01',\n",
    "        'eResponse_07',\n",
    "        'eResponse_15',\n",
    "        'eSituation_01',\n",
    "        'eSituation_07',\n",
    "        'eSituation_08',\n",
    "        'eTimes_01',\n",
    "        'eTimes_03',\n",
    "        'eTimes_05',\n",
    "        'eTimes_06',\n",
    "        'eTimes_07',\n",
    "        'eTimes_09',\n",
    "        'eTimes_11',\n",
    "        'eTimes_12',\n",
    "        'eTimes_13'\n",
    "    ],\n",
    "}\n"
   ]
  },
  {
   "cell_type": "code",
   "execution_count": 3,
   "metadata": {},
   "outputs": [
    {
     "ename": "KeyboardInterrupt",
     "evalue": "",
     "output_type": "error",
     "traceback": [
      "\u001b[0;31m---------------------------------------------------------------------------\u001b[0m",
      "\u001b[0;31mKeyboardInterrupt\u001b[0m                         Traceback (most recent call last)",
      "Cell \u001b[0;32mIn [3], line 4\u001b[0m\n\u001b[1;32m      1\u001b[0m \u001b[39mfrom\u001b[39;00m \u001b[39mdata\u001b[39;00m \u001b[39mimport\u001b[39;00m load_NEMSIS\n\u001b[0;32m----> 4\u001b[0m data \u001b[39m=\u001b[39m load_NEMSIS(key\u001b[39m=\u001b[39;49m\u001b[39m'\u001b[39;49m\u001b[39mPcrKey\u001b[39;49m\u001b[39m'\u001b[39;49m, data_dir\u001b[39m=\u001b[39;49mdata_dir, load_targets\u001b[39m=\u001b[39;49mnemsis_subset)\n",
      "File \u001b[0;32m~/Dev/CMU/CMU_DABP_Project/data.py:20\u001b[0m, in \u001b[0;36mload_NEMSIS\u001b[0;34m(key, data_dir, load_targets)\u001b[0m\n\u001b[1;32m     17\u001b[0m     \u001b[39mif\u001b[39;00m load_targets[f] \u001b[39mis\u001b[39;00m \u001b[39mnot\u001b[39;00m \u001b[39mNone\u001b[39;00m:\n\u001b[1;32m     18\u001b[0m         data \u001b[39m=\u001b[39m data[load_targets[f]]\n\u001b[0;32m---> 20\u001b[0m     data\u001b[39m.\u001b[39;49mset_index(key)\n\u001b[1;32m     22\u001b[0m     data_dict[f] \u001b[39m=\u001b[39m data\n\u001b[1;32m     24\u001b[0m \u001b[39mreturn\u001b[39;00m data_dict\n",
      "File \u001b[0;32m~/miniconda3/envs/dabp/lib/python3.11/site-packages/dask/dataframe/core.py:4798\u001b[0m, in \u001b[0;36mDataFrame.set_index\u001b[0;34m(***failed resolving arguments***)\u001b[0m\n\u001b[1;32m   4795\u001b[0m \u001b[39melse\u001b[39;00m:\n\u001b[1;32m   4796\u001b[0m     \u001b[39mfrom\u001b[39;00m \u001b[39mdask\u001b[39;00m\u001b[39m.\u001b[39;00m\u001b[39mdataframe\u001b[39;00m\u001b[39m.\u001b[39;00m\u001b[39mshuffle\u001b[39;00m \u001b[39mimport\u001b[39;00m set_index\n\u001b[0;32m-> 4798\u001b[0m     \u001b[39mreturn\u001b[39;00m set_index(\n\u001b[1;32m   4799\u001b[0m         \u001b[39mself\u001b[39;49m,\n\u001b[1;32m   4800\u001b[0m         other,\n\u001b[1;32m   4801\u001b[0m         drop\u001b[39m=\u001b[39;49mdrop,\n\u001b[1;32m   4802\u001b[0m         npartitions\u001b[39m=\u001b[39;49mnpartitions,\n\u001b[1;32m   4803\u001b[0m         divisions\u001b[39m=\u001b[39;49mdivisions,\n\u001b[1;32m   4804\u001b[0m         \u001b[39m*\u001b[39;49m\u001b[39m*\u001b[39;49mkwargs,\n\u001b[1;32m   4805\u001b[0m     )\n",
      "File \u001b[0;32m~/miniconda3/envs/dabp/lib/python3.11/site-packages/dask/dataframe/shuffle.py:228\u001b[0m, in \u001b[0;36mset_index\u001b[0;34m(df, index, npartitions, shuffle, compute, drop, upsample, divisions, partition_size, **kwargs)\u001b[0m\n\u001b[1;32m    225\u001b[0m     index2 \u001b[39m=\u001b[39m index\n\u001b[1;32m    227\u001b[0m \u001b[39mif\u001b[39;00m divisions \u001b[39mis\u001b[39;00m \u001b[39mNone\u001b[39;00m:\n\u001b[0;32m--> 228\u001b[0m     divisions, mins, maxes \u001b[39m=\u001b[39m _calculate_divisions(\n\u001b[1;32m    229\u001b[0m         df, index2, repartition, npartitions, upsample, partition_size\n\u001b[1;32m    230\u001b[0m     )\n\u001b[1;32m    232\u001b[0m     \u001b[39mif\u001b[39;00m (\n\u001b[1;32m    233\u001b[0m         mins \u001b[39m==\u001b[39m \u001b[39msorted\u001b[39m(mins)\n\u001b[1;32m    234\u001b[0m         \u001b[39mand\u001b[39;00m maxes \u001b[39m==\u001b[39m \u001b[39msorted\u001b[39m(maxes)\n\u001b[1;32m    235\u001b[0m         \u001b[39mand\u001b[39;00m \u001b[39mall\u001b[39m(mx \u001b[39m<\u001b[39m mn \u001b[39mfor\u001b[39;00m mx, mn \u001b[39min\u001b[39;00m \u001b[39mzip\u001b[39m(maxes[:\u001b[39m-\u001b[39m\u001b[39m1\u001b[39m], mins[\u001b[39m1\u001b[39m:]))\n\u001b[1;32m    236\u001b[0m         \u001b[39mand\u001b[39;00m npartitions \u001b[39m==\u001b[39m df\u001b[39m.\u001b[39mnpartitions\n\u001b[1;32m    237\u001b[0m     ):\n\u001b[1;32m    238\u001b[0m         divisions \u001b[39m=\u001b[39m mins \u001b[39m+\u001b[39m [maxes[\u001b[39m-\u001b[39m\u001b[39m1\u001b[39m]]\n",
      "File \u001b[0;32m~/miniconda3/envs/dabp/lib/python3.11/site-packages/dask/dataframe/shuffle.py:47\u001b[0m, in \u001b[0;36m_calculate_divisions\u001b[0;34m(df, partition_col, repartition, npartitions, upsample, partition_size)\u001b[0m\n\u001b[1;32m     44\u001b[0m maxes \u001b[39m=\u001b[39m partition_col\u001b[39m.\u001b[39mmap_partitions(M\u001b[39m.\u001b[39mmax)\n\u001b[1;32m     46\u001b[0m \u001b[39mtry\u001b[39;00m:\n\u001b[0;32m---> 47\u001b[0m     divisions, sizes, mins, maxes \u001b[39m=\u001b[39m compute(divisions, sizes, mins, maxes)\n\u001b[1;32m     48\u001b[0m \u001b[39mexcept\u001b[39;00m \u001b[39mTypeError\u001b[39;00m \u001b[39mas\u001b[39;00m e:\n\u001b[1;32m     49\u001b[0m     \u001b[39m# When there are nulls and a column is non-numeric, a TypeError is sometimes raised as a result of\u001b[39;00m\n\u001b[1;32m     50\u001b[0m     \u001b[39m# 1) computing mins/maxes above, 2) every null being switched to NaN, and 3) NaN being a float.\u001b[39;00m\n\u001b[1;32m     51\u001b[0m     \u001b[39m# Also, Pandas ExtensionDtypes may cause TypeErrors when dealing with special nulls such as pd.NaT or pd.NA.\u001b[39;00m\n\u001b[1;32m     52\u001b[0m     \u001b[39m# If this happens, we hint the user about eliminating nulls beforehand.\u001b[39;00m\n\u001b[1;32m     53\u001b[0m     \u001b[39mif\u001b[39;00m \u001b[39mnot\u001b[39;00m is_numeric_dtype(partition_col\u001b[39m.\u001b[39mdtype):\n",
      "File \u001b[0;32m~/miniconda3/envs/dabp/lib/python3.11/site-packages/dask/base.py:602\u001b[0m, in \u001b[0;36mcompute\u001b[0;34m(traverse, optimize_graph, scheduler, get, *args, **kwargs)\u001b[0m\n\u001b[1;32m    599\u001b[0m     keys\u001b[39m.\u001b[39mappend(x\u001b[39m.\u001b[39m__dask_keys__())\n\u001b[1;32m    600\u001b[0m     postcomputes\u001b[39m.\u001b[39mappend(x\u001b[39m.\u001b[39m__dask_postcompute__())\n\u001b[0;32m--> 602\u001b[0m results \u001b[39m=\u001b[39m schedule(dsk, keys, \u001b[39m*\u001b[39;49m\u001b[39m*\u001b[39;49mkwargs)\n\u001b[1;32m    603\u001b[0m \u001b[39mreturn\u001b[39;00m repack([f(r, \u001b[39m*\u001b[39ma) \u001b[39mfor\u001b[39;00m r, (f, a) \u001b[39min\u001b[39;00m \u001b[39mzip\u001b[39m(results, postcomputes)])\n",
      "File \u001b[0;32m~/miniconda3/envs/dabp/lib/python3.11/site-packages/dask/threaded.py:89\u001b[0m, in \u001b[0;36mget\u001b[0;34m(dsk, keys, cache, num_workers, pool, **kwargs)\u001b[0m\n\u001b[1;32m     86\u001b[0m     \u001b[39melif\u001b[39;00m \u001b[39misinstance\u001b[39m(pool, multiprocessing\u001b[39m.\u001b[39mpool\u001b[39m.\u001b[39mPool):\n\u001b[1;32m     87\u001b[0m         pool \u001b[39m=\u001b[39m MultiprocessingPoolExecutor(pool)\n\u001b[0;32m---> 89\u001b[0m results \u001b[39m=\u001b[39m get_async(\n\u001b[1;32m     90\u001b[0m     pool\u001b[39m.\u001b[39;49msubmit,\n\u001b[1;32m     91\u001b[0m     pool\u001b[39m.\u001b[39;49m_max_workers,\n\u001b[1;32m     92\u001b[0m     dsk,\n\u001b[1;32m     93\u001b[0m     keys,\n\u001b[1;32m     94\u001b[0m     cache\u001b[39m=\u001b[39;49mcache,\n\u001b[1;32m     95\u001b[0m     get_id\u001b[39m=\u001b[39;49m_thread_get_id,\n\u001b[1;32m     96\u001b[0m     pack_exception\u001b[39m=\u001b[39;49mpack_exception,\n\u001b[1;32m     97\u001b[0m     \u001b[39m*\u001b[39;49m\u001b[39m*\u001b[39;49mkwargs,\n\u001b[1;32m     98\u001b[0m )\n\u001b[1;32m    100\u001b[0m \u001b[39m# Cleanup pools associated to dead threads\u001b[39;00m\n\u001b[1;32m    101\u001b[0m \u001b[39mwith\u001b[39;00m pools_lock:\n",
      "File \u001b[0;32m~/miniconda3/envs/dabp/lib/python3.11/site-packages/dask/local.py:500\u001b[0m, in \u001b[0;36mget_async\u001b[0;34m(submit, num_workers, dsk, result, cache, get_id, rerun_exceptions_locally, pack_exception, raise_exception, callbacks, dumps, loads, chunksize, **kwargs)\u001b[0m\n\u001b[1;32m    498\u001b[0m \u001b[39mwhile\u001b[39;00m state[\u001b[39m\"\u001b[39m\u001b[39mwaiting\u001b[39m\u001b[39m\"\u001b[39m] \u001b[39mor\u001b[39;00m state[\u001b[39m\"\u001b[39m\u001b[39mready\u001b[39m\u001b[39m\"\u001b[39m] \u001b[39mor\u001b[39;00m state[\u001b[39m\"\u001b[39m\u001b[39mrunning\u001b[39m\u001b[39m\"\u001b[39m]:\n\u001b[1;32m    499\u001b[0m     fire_tasks(chunksize)\n\u001b[0;32m--> 500\u001b[0m     \u001b[39mfor\u001b[39;00m key, res_info, failed \u001b[39min\u001b[39;00m queue_get(queue)\u001b[39m.\u001b[39mresult():\n\u001b[1;32m    501\u001b[0m         \u001b[39mif\u001b[39;00m failed:\n\u001b[1;32m    502\u001b[0m             exc, tb \u001b[39m=\u001b[39m loads(res_info)\n",
      "File \u001b[0;32m~/miniconda3/envs/dabp/lib/python3.11/site-packages/dask/local.py:137\u001b[0m, in \u001b[0;36mqueue_get\u001b[0;34m(q)\u001b[0m\n\u001b[1;32m    136\u001b[0m \u001b[39mdef\u001b[39;00m \u001b[39mqueue_get\u001b[39m(q):\n\u001b[0;32m--> 137\u001b[0m     \u001b[39mreturn\u001b[39;00m q\u001b[39m.\u001b[39;49mget()\n",
      "File \u001b[0;32m~/miniconda3/envs/dabp/lib/python3.11/queue.py:171\u001b[0m, in \u001b[0;36mQueue.get\u001b[0;34m(self, block, timeout)\u001b[0m\n\u001b[1;32m    169\u001b[0m \u001b[39melif\u001b[39;00m timeout \u001b[39mis\u001b[39;00m \u001b[39mNone\u001b[39;00m:\n\u001b[1;32m    170\u001b[0m     \u001b[39mwhile\u001b[39;00m \u001b[39mnot\u001b[39;00m \u001b[39mself\u001b[39m\u001b[39m.\u001b[39m_qsize():\n\u001b[0;32m--> 171\u001b[0m         \u001b[39mself\u001b[39;49m\u001b[39m.\u001b[39;49mnot_empty\u001b[39m.\u001b[39;49mwait()\n\u001b[1;32m    172\u001b[0m \u001b[39melif\u001b[39;00m timeout \u001b[39m<\u001b[39m \u001b[39m0\u001b[39m:\n\u001b[1;32m    173\u001b[0m     \u001b[39mraise\u001b[39;00m \u001b[39mValueError\u001b[39;00m(\u001b[39m\"\u001b[39m\u001b[39m'\u001b[39m\u001b[39mtimeout\u001b[39m\u001b[39m'\u001b[39m\u001b[39m must be a non-negative number\u001b[39m\u001b[39m\"\u001b[39m)\n",
      "File \u001b[0;32m~/miniconda3/envs/dabp/lib/python3.11/threading.py:320\u001b[0m, in \u001b[0;36mCondition.wait\u001b[0;34m(self, timeout)\u001b[0m\n\u001b[1;32m    318\u001b[0m \u001b[39mtry\u001b[39;00m:    \u001b[39m# restore state no matter what (e.g., KeyboardInterrupt)\u001b[39;00m\n\u001b[1;32m    319\u001b[0m     \u001b[39mif\u001b[39;00m timeout \u001b[39mis\u001b[39;00m \u001b[39mNone\u001b[39;00m:\n\u001b[0;32m--> 320\u001b[0m         waiter\u001b[39m.\u001b[39;49macquire()\n\u001b[1;32m    321\u001b[0m         gotit \u001b[39m=\u001b[39m \u001b[39mTrue\u001b[39;00m\n\u001b[1;32m    322\u001b[0m     \u001b[39melse\u001b[39;00m:\n",
      "\u001b[0;31mKeyboardInterrupt\u001b[0m: "
     ]
    }
   ],
   "source": [
    "from data import load_NEMSIS\n",
    "\n",
    "\n",
    "data = load_NEMSIS(key='PcrKey', data_dir=data_dir, load_targets=nemsis_subset)\n"
   ]
  },
  {
   "cell_type": "code",
   "execution_count": null,
   "metadata": {},
   "outputs": [],
   "source": []
  }
 ],
 "metadata": {
  "kernelspec": {
   "display_name": "Python 3.11.0 ('dabp')",
   "language": "python",
   "name": "python3"
  },
  "language_info": {
   "codemirror_mode": {
    "name": "ipython",
    "version": 3
   },
   "file_extension": ".py",
   "mimetype": "text/x-python",
   "name": "python",
   "nbconvert_exporter": "python",
   "pygments_lexer": "ipython3",
   "version": "3.11.0"
  },
  "orig_nbformat": 4,
  "vscode": {
   "interpreter": {
    "hash": "1848222e23d7eaddda6bfa0b16887ba45e0f7b875c11d69b438f73c0d317526a"
   }
  }
 },
 "nbformat": 4,
 "nbformat_minor": 2
}
