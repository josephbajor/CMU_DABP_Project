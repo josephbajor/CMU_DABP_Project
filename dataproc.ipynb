{
 "cells": [
  {
   "cell_type": "code",
   "execution_count": 1,
   "metadata": {},
   "outputs": [],
   "source": [
    "import numpy as np\n",
    "import pandas as pd\n",
    "import dask.dataframe as dd\n",
    "import sys\n",
    "import os\n",
    "import math\n",
    "from data import load_NEMSIS_dask, load_NEMSIS_pandas, chain_join"
   ]
  },
  {
   "cell_type": "code",
   "execution_count": 2,
   "metadata": {},
   "outputs": [],
   "source": [
    "# data_dir: os.PathLike = \"/Volumes/Extreme Pro/datasets/NEMSIS/ASCII/\"\n",
    "# data_dir: os.PathLike = \"/media/jbajor/Extreme Pro/datasets/NEMSIS/ASCII/\"\n",
    "data_dir: os.PathLike = \"/home/jbajor/Dev/datasets/NEMSIS/ASCII/\"\n",
    "\n",
    "\n",
    "nemsis_subset = {\n",
    "    \"ComputedElements\":[\n",
    "        'PcrKey',\n",
    "        'NasemsoRegion',\n",
    "        'Urbanicity',\n",
    "        'ageinyear',\n",
    "        'EMSDispatchCenterTimeSec',\n",
    "        'EMSChuteTimeMin',\n",
    "        'EMSSceneResponseTimeMin',\n",
    "        'EMSSceneTimeMin',\n",
    "        'EMSSceneToPatientTimeMin'\n",
    "    ],\n",
    "    \"FACTPCRADDITIONALRESPONSEMODE\":None,\n",
    "    \"FACTPCRADDITIONALSYMPTOM\":None,\n",
    "    \"FACTPCRADDITIONALTRANSPORTMODE\":None,\n",
    "    \"FACTPCRARRESTCPRPROVIDED\":None,\n",
    "    \"FACTPCRARRESTRESUSCITATION\":None,\n",
    "    \"FACTPCRARRESTRHYTHMDESTINATION\":None,\n",
    "    \"FACTPCRARRESTROSC\":None,\n",
    "    \"FACTPCRARRESTWITNESS\":None,\n",
    "    \"FACTPCRBARRIERTOCARE\":None,\n",
    "    \"FACTPCRMEDICATION\":None,\n",
    "    \"FACTPCRPRIMARYIMPRESSION\":None,\n",
    "    \"FACTPCRPROCEDURE\":None,\n",
    "    \"FACTPCRPROTOCOL\":None,\n",
    "    \"FACTPCRSECONDARYIMPRESSION\":None,\n",
    "    \"FACTPCRTRAUMACRITERIA\":None,\n",
    "    \"FACTPCRWORKRELATEDEXPOSURE\":None,\n",
    "    # \"PCRMEDCOMPGROUP\":None, # bad key\n",
    "    # \"PCRPROCCOMPGROUP\":None, # bad key\n",
    "    # \"PCRVITALECGGROUP\":None, # bad key\n",
    "    \"Pub_PCRevents\":[\n",
    "        'PcrKey',\n",
    "        'eArrest_01',\n",
    "        'eArrest_02',\n",
    "        'eArrest_05',\n",
    "        'eArrest_07',\n",
    "        'eArrest_11',\n",
    "        'eArrest_14',\n",
    "        'eArrest_16',\n",
    "        'eArrest_18',\n",
    "        'eDisposition_23',\n",
    "        'ePayment_01',\n",
    "        'eResponse_07',\n",
    "        'eResponse_15',\n",
    "        'eSituation_01',\n",
    "        'eSituation_07',\n",
    "        'eSituation_08',\n",
    "        'eTimes_01',\n",
    "        'eTimes_03',\n",
    "        'eTimes_05',\n",
    "        'eTimes_06',\n",
    "        'eTimes_07',\n",
    "        'eTimes_09',\n",
    "        'eTimes_11',\n",
    "        'eTimes_12',\n",
    "        'eTimes_13'\n",
    "    ],\n",
    "}\n"
   ]
  },
  {
   "cell_type": "code",
   "execution_count": 13,
   "metadata": {},
   "outputs": [
    {
     "ename": "",
     "evalue": "",
     "output_type": "error",
     "traceback": [
      "\u001b[1;31mThe Kernel crashed while executing code in the the current cell or a previous cell. Please review the code in the cell(s) to identify a possible cause of the failure. Click <a href='https://aka.ms/vscodeJupyterKernelCrash'>here</a> for more info. View Jupyter <a href='command:jupyter.viewOutput'>log</a> for further details."
     ]
    },
    {
     "ename": "",
     "evalue": "",
     "output_type": "error",
     "traceback": [
      "\u001b[1;31mCanceled future for execute_request message before replies were done"
     ]
    }
   ],
   "source": [
    "main = pd.read_csv(os.path.join(data_dir, 'Pub_PCRevents' + \".txt\"), sep=\"~\\|~\", engine=\"python\", nrows=1000000)\n",
    "\n",
    "sub = pd.read_csv(os.path.join(data_dir, 'FACTPCRPROCEDURE' + \".txt\"), sep=\"~\\|~\", engine=\"python\")"
   ]
  },
  {
   "cell_type": "code",
   "execution_count": null,
   "metadata": {},
   "outputs": [],
   "source": [
    "main.set_index(\"'PcrKey'\", inplace=True, append=True)\n",
    "sub.set_index(\"'PcrKey'\", inplace=True, append=True)"
   ]
  },
  {
   "cell_type": "code",
   "execution_count": null,
   "metadata": {},
   "outputs": [],
   "source": [
    "jtest = main.join(sub, how='left')"
   ]
  },
  {
   "cell_type": "markdown",
   "metadata": {},
   "source": [
    "_____"
   ]
  },
  {
   "cell_type": "code",
   "execution_count": 9,
   "metadata": {},
   "outputs": [],
   "source": [
    "proctest = pd.read_csv(os.path.join(data_dir, 'FACTPCRPROCEDURE' + \".txt\"), sep=\"~\\|~\", engine=\"python\", nrows=50000)\n",
    "maintest = pd.read_csv(os.path.join(data_dir, 'Pub_PCRevents' + \".txt\"), sep=\"~\\|~\", engine=\"python\", nrows=50000)"
   ]
  },
  {
   "cell_type": "code",
   "execution_count": 11,
   "metadata": {},
   "outputs": [],
   "source": [
    "proctest.set_index(\"'PcrKey'\", inplace=True, append=True)\n",
    "maintest.set_index(\"'PcrKey'\", inplace=True, append=True)"
   ]
  },
  {
   "cell_type": "code",
   "execution_count": 12,
   "metadata": {},
   "outputs": [],
   "source": [
    "jtest = maintest.join(proctest, how='left')"
   ]
  },
  {
   "cell_type": "code",
   "execution_count": 3,
   "metadata": {},
   "outputs": [],
   "source": [
    "dataframes = load_NEMSIS_pandas(data_dir=data_dir, load_targets=nemsis_subset, nrows=10000)"
   ]
  },
  {
   "cell_type": "code",
   "execution_count": 4,
   "metadata": {},
   "outputs": [],
   "source": [
    "dlist = [i for i in dataframes.values()]"
   ]
  },
  {
   "cell_type": "code",
   "execution_count": 5,
   "metadata": {},
   "outputs": [
    {
     "data": {
      "text/html": [
       "<div>\n",
       "<style scoped>\n",
       "    .dataframe tbody tr th:only-of-type {\n",
       "        vertical-align: middle;\n",
       "    }\n",
       "\n",
       "    .dataframe tbody tr th {\n",
       "        vertical-align: top;\n",
       "    }\n",
       "\n",
       "    .dataframe thead th {\n",
       "        text-align: right;\n",
       "    }\n",
       "</style>\n",
       "<table border=\"1\" class=\"dataframe\">\n",
       "  <thead>\n",
       "    <tr style=\"text-align: right;\">\n",
       "      <th></th>\n",
       "      <th>PcrKey</th>\n",
       "      <th>NasemsoRegion</th>\n",
       "      <th>Urbanicity</th>\n",
       "      <th>ageinyear</th>\n",
       "      <th>EMSDispatchCenterTimeSec</th>\n",
       "      <th>EMSChuteTimeMin</th>\n",
       "      <th>EMSSceneResponseTimeMin</th>\n",
       "      <th>EMSSceneTimeMin</th>\n",
       "      <th>EMSSceneToPatientTimeMin</th>\n",
       "    </tr>\n",
       "  </thead>\n",
       "  <tbody>\n",
       "    <tr>\n",
       "      <th>0</th>\n",
       "      <td>3442467</td>\n",
       "      <td>South</td>\n",
       "      <td></td>\n",
       "      <td>&lt;NA&gt;</td>\n",
       "      <td>&lt;NA&gt;</td>\n",
       "      <td>&lt;NA&gt;</td>\n",
       "      <td>&lt;NA&gt;</td>\n",
       "      <td>&lt;NA&gt;</td>\n",
       "      <td>NaN</td>\n",
       "    </tr>\n",
       "    <tr>\n",
       "      <th>1</th>\n",
       "      <td>9059962</td>\n",
       "      <td>South</td>\n",
       "      <td>Urban</td>\n",
       "      <td>&lt;NA&gt;</td>\n",
       "      <td>&lt;NA&gt;</td>\n",
       "      <td>&lt;NA&gt;</td>\n",
       "      <td>&lt;NA&gt;</td>\n",
       "      <td>&lt;NA&gt;</td>\n",
       "      <td>NaN</td>\n",
       "    </tr>\n",
       "    <tr>\n",
       "      <th>2</th>\n",
       "      <td>9778729</td>\n",
       "      <td>West</td>\n",
       "      <td>Rural</td>\n",
       "      <td>90</td>\n",
       "      <td>60</td>\n",
       "      <td>2</td>\n",
       "      <td>13</td>\n",
       "      <td>12</td>\n",
       "      <td>NaN</td>\n",
       "    </tr>\n",
       "    <tr>\n",
       "      <th>3</th>\n",
       "      <td>9829108</td>\n",
       "      <td>West</td>\n",
       "      <td>Urban</td>\n",
       "      <td>85</td>\n",
       "      <td>10</td>\n",
       "      <td>4.8333333333</td>\n",
       "      <td>5</td>\n",
       "      <td>60</td>\n",
       "      <td>NaN</td>\n",
       "    </tr>\n",
       "    <tr>\n",
       "      <th>4</th>\n",
       "      <td>10094816</td>\n",
       "      <td>South</td>\n",
       "      <td>Urban</td>\n",
       "      <td>82</td>\n",
       "      <td>&lt;NA&gt;</td>\n",
       "      <td>&lt;NA&gt;</td>\n",
       "      <td>&lt;NA&gt;</td>\n",
       "      <td>&lt;NA&gt;</td>\n",
       "      <td>NaN</td>\n",
       "    </tr>\n",
       "    <tr>\n",
       "      <th>...</th>\n",
       "      <td>...</td>\n",
       "      <td>...</td>\n",
       "      <td>...</td>\n",
       "      <td>...</td>\n",
       "      <td>...</td>\n",
       "      <td>...</td>\n",
       "      <td>...</td>\n",
       "      <td>...</td>\n",
       "      <td>...</td>\n",
       "    </tr>\n",
       "    <tr>\n",
       "      <th>9995</th>\n",
       "      <td>28319680</td>\n",
       "      <td>South</td>\n",
       "      <td>Urban</td>\n",
       "      <td>45</td>\n",
       "      <td>4</td>\n",
       "      <td>0.2</td>\n",
       "      <td>43.3</td>\n",
       "      <td>15.966666667</td>\n",
       "      <td>3.4333333333</td>\n",
       "    </tr>\n",
       "    <tr>\n",
       "      <th>9996</th>\n",
       "      <td>28319682</td>\n",
       "      <td>South</td>\n",
       "      <td>Urban</td>\n",
       "      <td>&lt;NA&gt;</td>\n",
       "      <td>&lt;NA&gt;</td>\n",
       "      <td>1.5</td>\n",
       "      <td>&lt;NA&gt;</td>\n",
       "      <td>&lt;NA&gt;</td>\n",
       "      <td>&lt;NA&gt;</td>\n",
       "    </tr>\n",
       "    <tr>\n",
       "      <th>9997</th>\n",
       "      <td>28319683</td>\n",
       "      <td>South</td>\n",
       "      <td>Urban</td>\n",
       "      <td>&lt;NA&gt;</td>\n",
       "      <td>0</td>\n",
       "      <td>0</td>\n",
       "      <td>4</td>\n",
       "      <td>&lt;NA&gt;</td>\n",
       "      <td>&lt;NA&gt;</td>\n",
       "    </tr>\n",
       "    <tr>\n",
       "      <th>9998</th>\n",
       "      <td>28319684</td>\n",
       "      <td>South</td>\n",
       "      <td>Urban</td>\n",
       "      <td>44</td>\n",
       "      <td>2436</td>\n",
       "      <td>0.2833333333</td>\n",
       "      <td>5.8166666667</td>\n",
       "      <td>&lt;NA&gt;</td>\n",
       "      <td>1.6</td>\n",
       "    </tr>\n",
       "    <tr>\n",
       "      <th>9999</th>\n",
       "      <td>28319685</td>\n",
       "      <td>South</td>\n",
       "      <td>Urban</td>\n",
       "      <td>67</td>\n",
       "      <td>211</td>\n",
       "      <td>0.9666666667</td>\n",
       "      <td>45.766666667</td>\n",
       "      <td>12.9</td>\n",
       "      <td>4.3166666667</td>\n",
       "    </tr>\n",
       "  </tbody>\n",
       "</table>\n",
       "<p>10000 rows × 9 columns</p>\n",
       "</div>"
      ],
      "text/plain": [
       "        PcrKey   NasemsoRegion  Urbanicity ageinyear EMSDispatchCenterTimeSec  \\\n",
       "0      3442467  South                           <NA>                     <NA>   \n",
       "1      9059962  South           Urban           <NA>                     <NA>   \n",
       "2      9778729  West            Rural            90                       60    \n",
       "3      9829108  West            Urban            85                       10    \n",
       "4     10094816  South           Urban            82                      <NA>   \n",
       "...        ...             ...         ...       ...                      ...   \n",
       "9995  28319680  South           Urban            45                        4    \n",
       "9996  28319682  South           Urban           <NA>                     <NA>   \n",
       "9997  28319683  South           Urban           <NA>                       0    \n",
       "9998  28319684  South           Urban            44                     2436    \n",
       "9999  28319685  South           Urban            67                      211    \n",
       "\n",
       "     EMSChuteTimeMin EMSSceneResponseTimeMin EMSSceneTimeMin  \\\n",
       "0               <NA>                    <NA>            <NA>   \n",
       "1               <NA>                    <NA>            <NA>   \n",
       "2                 2                      13              12    \n",
       "3      4.8333333333                       5              60    \n",
       "4               <NA>                    <NA>            <NA>   \n",
       "...              ...                     ...             ...   \n",
       "9995            0.2                    43.3    15.966666667    \n",
       "9996            1.5                     <NA>            <NA>   \n",
       "9997              0                       4             <NA>   \n",
       "9998   0.2833333333            5.8166666667             <NA>   \n",
       "9999   0.9666666667            45.766666667            12.9    \n",
       "\n",
       "     EMSSceneToPatientTimeMin  \n",
       "0                         NaN  \n",
       "1                         NaN  \n",
       "2                         NaN  \n",
       "3                         NaN  \n",
       "4                         NaN  \n",
       "...                       ...  \n",
       "9995            3.4333333333   \n",
       "9996                     <NA>  \n",
       "9997                     <NA>  \n",
       "9998                     1.6   \n",
       "9999            4.3166666667   \n",
       "\n",
       "[10000 rows x 9 columns]"
      ]
     },
     "execution_count": 5,
     "metadata": {},
     "output_type": "execute_result"
    }
   ],
   "source": [
    "dlist[0]"
   ]
  },
  {
   "cell_type": "code",
   "execution_count": 6,
   "metadata": {},
   "outputs": [],
   "source": [
    "joined = chain_join(datadict=dataframes, key='PcrKey', start_table='Pub_PCRevents', type='left')"
   ]
  },
  {
   "cell_type": "code",
   "execution_count": null,
   "metadata": {},
   "outputs": [],
   "source": [
    "joined"
   ]
  },
  {
   "cell_type": "code",
   "execution_count": 5,
   "metadata": {},
   "outputs": [],
   "source": [
    "# joined.to_pickle('NEMSIS_subset.pkl')"
   ]
  }
 ],
 "metadata": {
  "kernelspec": {
   "display_name": "Python 3.11.0 ('dabp')",
   "language": "python",
   "name": "python3"
  },
  "language_info": {
   "codemirror_mode": {
    "name": "ipython",
    "version": 3
   },
   "file_extension": ".py",
   "mimetype": "text/x-python",
   "name": "python",
   "nbconvert_exporter": "python",
   "pygments_lexer": "ipython3",
   "version": "3.11.0"
  },
  "orig_nbformat": 4,
  "vscode": {
   "interpreter": {
    "hash": "1848222e23d7eaddda6bfa0b16887ba45e0f7b875c11d69b438f73c0d317526a"
   }
  }
 },
 "nbformat": 4,
 "nbformat_minor": 2
}
